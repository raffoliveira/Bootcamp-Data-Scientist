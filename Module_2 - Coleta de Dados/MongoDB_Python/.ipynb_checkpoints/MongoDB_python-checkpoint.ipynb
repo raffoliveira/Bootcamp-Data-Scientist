{
 "cells": [
  {
   "cell_type": "markdown",
   "metadata": {},
   "source": [
    "Instalar primeiramente o pacote PyMongo. No anaconda utilize:\n",
    "### conda install -c wakari pymongo\n"
   ]
  },
  {
   "cell_type": "code",
   "execution_count": 4,
   "metadata": {},
   "outputs": [],
   "source": [
    "import pymongo"
   ]
  },
  {
   "cell_type": "code",
   "execution_count": 5,
   "metadata": {},
   "outputs": [],
   "source": [
    "#Conexão com o MongoDB\n",
    "con = pymongo.MongoClient('localhost', 27017)"
   ]
  },
  {
   "cell_type": "code",
   "execution_count": 6,
   "metadata": {},
   "outputs": [
    {
     "data": {
      "text/plain": [
       "['Vendas', 'admin', 'config', 'igti', 'local']"
      ]
     },
     "execution_count": 6,
     "metadata": {},
     "output_type": "execute_result"
    }
   ],
   "source": [
    "#listar bancos de dados\n",
    "con.list_database_names()"
   ]
  },
  {
   "cell_type": "code",
   "execution_count": 7,
   "metadata": {},
   "outputs": [
    {
     "data": {
      "text/plain": [
       "MongoClient(host=['localhost:27017'], document_class=dict, tz_aware=False, connect=True)"
      ]
     },
     "execution_count": 7,
     "metadata": {},
     "output_type": "execute_result"
    }
   ],
   "source": [
    "con"
   ]
  },
  {
   "cell_type": "code",
   "execution_count": 8,
   "metadata": {},
   "outputs": [
    {
     "data": {
      "text/plain": [
       "Database(MongoClient(host=['localhost:27017'], document_class=dict, tz_aware=False, connect=True), 'igti')"
      ]
     },
     "execution_count": 8,
     "metadata": {},
     "output_type": "execute_result"
    }
   ],
   "source": [
    "#selecionar o banco de dados desejado\n",
    "db = con.igti\n",
    "db"
   ]
  },
  {
   "cell_type": "code",
   "execution_count": 9,
   "metadata": {},
   "outputs": [
    {
     "data": {
      "text/plain": [
       "['clientes']"
      ]
     },
     "execution_count": 9,
     "metadata": {},
     "output_type": "execute_result"
    }
   ],
   "source": [
    "db.list_collection_names()"
   ]
  },
  {
   "cell_type": "code",
   "execution_count": 10,
   "metadata": {},
   "outputs": [
    {
     "data": {
      "text/plain": [
       "Collection(Database(MongoClient(host=['localhost:27017'], document_class=dict, tz_aware=False, connect=True), 'igti'), 'clientes')"
      ]
     },
     "execution_count": 10,
     "metadata": {},
     "output_type": "execute_result"
    }
   ],
   "source": [
    "collection = db.clientes\n",
    "collection"
   ]
  },
  {
   "cell_type": "code",
   "execution_count": 11,
   "metadata": {},
   "outputs": [
    {
     "data": {
      "text/plain": [
       "{'_id': ObjectId('5f2c460c104ad66c66273cca'), 'nome': 'Rafael', 'idade': 29.0}"
      ]
     },
     "execution_count": 11,
     "metadata": {},
     "output_type": "execute_result"
    }
   ],
   "source": [
    "collection.find_one()"
   ]
  },
  {
   "cell_type": "code",
   "execution_count": 12,
   "metadata": {},
   "outputs": [
    {
     "name": "stdout",
     "output_type": "stream",
     "text": [
      "{'_id': ObjectId('5f2c460c104ad66c66273cca'), 'nome': 'Rafael', 'idade': 29.0}\n"
     ]
    }
   ],
   "source": [
    "print(collection.find_one({'nome': 'Rafael'}))"
   ]
  },
  {
   "cell_type": "code",
   "execution_count": 13,
   "metadata": {},
   "outputs": [],
   "source": [
    "import pprint"
   ]
  },
  {
   "cell_type": "code",
   "execution_count": 14,
   "metadata": {},
   "outputs": [
    {
     "name": "stdout",
     "output_type": "stream",
     "text": [
      "{'_id': ObjectId('5f2c460c104ad66c66273cca'), 'idade': 29.0, 'nome': 'Rafael'}\n"
     ]
    }
   ],
   "source": [
    "pprint.pprint(collection.find_one({'nome': 'Rafael'}))"
   ]
  },
  {
   "cell_type": "code",
   "execution_count": 15,
   "metadata": {},
   "outputs": [
    {
     "name": "stdout",
     "output_type": "stream",
     "text": [
      "{'_id': ObjectId('5f2c4c4e104ad66c66273cd1'),\n",
      " 'genero': 'Masculino',\n",
      " 'idade': 65.0,\n",
      " 'nome': 'Rodrigo',\n",
      " 'uf': 'AC'}\n"
     ]
    }
   ],
   "source": [
    "pprint.pprint(collection.find_one({'idade': 65}))"
   ]
  },
  {
   "cell_type": "code",
   "execution_count": 16,
   "metadata": {},
   "outputs": [
    {
     "name": "stdout",
     "output_type": "stream",
     "text": [
      "{'_id': ObjectId('5f2c4620104ad66c66273ccb'),\n",
      " 'idade': 29.0,\n",
      " 'nome': 'Frances',\n",
      " 'uf': 'MG'}\n",
      "{'_id': ObjectId('5f2c462f104ad66c66273ccc'),\n",
      " 'idade': 32.0,\n",
      " 'nome': 'Augusto',\n",
      " 'uf': 'MG'}\n"
     ]
    }
   ],
   "source": [
    "for docs in collection.find({'uf': 'MG'}):\n",
    "    pprint.pprint(docs)"
   ]
  },
  {
   "cell_type": "code",
   "execution_count": 17,
   "metadata": {},
   "outputs": [
    {
     "data": {
      "text/plain": [
       "['clientes']"
      ]
     },
     "execution_count": 17,
     "metadata": {},
     "output_type": "execute_result"
    }
   ],
   "source": [
    "db.list_collection_names()"
   ]
  },
  {
   "cell_type": "markdown",
   "metadata": {},
   "source": [
    "## Criar banco de dados e coleção"
   ]
  },
  {
   "cell_type": "code",
   "execution_count": 18,
   "metadata": {},
   "outputs": [],
   "source": [
    "db = con['Vendas']"
   ]
  },
  {
   "cell_type": "code",
   "execution_count": 19,
   "metadata": {},
   "outputs": [
    {
     "data": {
      "text/plain": [
       "Database(MongoClient(host=['localhost:27017'], document_class=dict, tz_aware=False, connect=True), 'Vendas')"
      ]
     },
     "execution_count": 19,
     "metadata": {},
     "output_type": "execute_result"
    }
   ],
   "source": [
    "db"
   ]
  },
  {
   "cell_type": "code",
   "execution_count": 20,
   "metadata": {},
   "outputs": [
    {
     "data": {
      "text/plain": [
       "['Vendas', 'admin', 'config', 'igti', 'local']"
      ]
     },
     "execution_count": 20,
     "metadata": {},
     "output_type": "execute_result"
    }
   ],
   "source": [
    "con.list_database_names()"
   ]
  },
  {
   "cell_type": "code",
   "execution_count": 21,
   "metadata": {},
   "outputs": [],
   "source": [
    "colecao = db['clientes']"
   ]
  },
  {
   "cell_type": "code",
   "execution_count": 22,
   "metadata": {},
   "outputs": [
    {
     "data": {
      "text/plain": [
       "['clientes']"
      ]
     },
     "execution_count": 22,
     "metadata": {},
     "output_type": "execute_result"
    }
   ],
   "source": [
    "db.list_collection_names()"
   ]
  },
  {
   "cell_type": "code",
   "execution_count": 23,
   "metadata": {},
   "outputs": [],
   "source": [
    "documento = {'nome': 'Maria', 'profissao': 'Advogada'}"
   ]
  },
  {
   "cell_type": "code",
   "execution_count": 24,
   "metadata": {},
   "outputs": [],
   "source": [
    "resultado = colecao.insert_one(documento)"
   ]
  },
  {
   "cell_type": "code",
   "execution_count": 25,
   "metadata": {},
   "outputs": [
    {
     "data": {
      "text/plain": [
       "<pymongo.results.InsertOneResult at 0x7fc1180e8700>"
      ]
     },
     "execution_count": 25,
     "metadata": {},
     "output_type": "execute_result"
    }
   ],
   "source": [
    "resultado"
   ]
  },
  {
   "cell_type": "code",
   "execution_count": 26,
   "metadata": {},
   "outputs": [
    {
     "data": {
      "text/plain": [
       "['clientes']"
      ]
     },
     "execution_count": 26,
     "metadata": {},
     "output_type": "execute_result"
    }
   ],
   "source": [
    "db.list_collection_names()"
   ]
  },
  {
   "cell_type": "code",
   "execution_count": 27,
   "metadata": {},
   "outputs": [
    {
     "data": {
      "text/plain": [
       "['Vendas', 'admin', 'config', 'igti', 'local']"
      ]
     },
     "execution_count": 27,
     "metadata": {},
     "output_type": "execute_result"
    }
   ],
   "source": [
    "con.list_database_names()"
   ]
  },
  {
   "cell_type": "code",
   "execution_count": 28,
   "metadata": {},
   "outputs": [
    {
     "name": "stdout",
     "output_type": "stream",
     "text": [
      "{'Logradouro': 'Avenida Castelo Branco',\n",
      " 'Num': 133,\n",
      " '_id': ObjectId('5f2c560ef3d4305121baf7ec'),\n",
      " 'nome': 'Maria',\n",
      " 'profissao': 'Advogada'}\n"
     ]
    }
   ],
   "source": [
    "pprint.pprint(colecao.find_one())"
   ]
  },
  {
   "cell_type": "code",
   "execution_count": 29,
   "metadata": {},
   "outputs": [
    {
     "data": {
      "text/plain": [
       "<pymongo.results.InsertOneResult at 0x7fc1180df100>"
      ]
     },
     "execution_count": 29,
     "metadata": {},
     "output_type": "execute_result"
    }
   ],
   "source": [
    "colecao.insert_one({'nome': 'José Roberto', 'profissao': 'Médico', 'CRM': 'Sim'})"
   ]
  },
  {
   "cell_type": "code",
   "execution_count": 30,
   "metadata": {},
   "outputs": [
    {
     "name": "stdout",
     "output_type": "stream",
     "text": [
      "{'Logradouro': 'Avenida Castelo Branco',\n",
      " 'Num': 133,\n",
      " '_id': ObjectId('5f2c560ef3d4305121baf7ec'),\n",
      " 'nome': 'Maria',\n",
      " 'profissao': 'Advogada'}\n"
     ]
    }
   ],
   "source": [
    "pprint.pprint(colecao.find_one())"
   ]
  },
  {
   "cell_type": "code",
   "execution_count": 31,
   "metadata": {},
   "outputs": [
    {
     "name": "stdout",
     "output_type": "stream",
     "text": [
      "<pymongo.cursor.Cursor object at 0x7fc11894a730>\n"
     ]
    }
   ],
   "source": [
    "pprint.pprint(colecao.find())"
   ]
  },
  {
   "cell_type": "code",
   "execution_count": 32,
   "metadata": {},
   "outputs": [
    {
     "name": "stdout",
     "output_type": "stream",
     "text": [
      "{'Logradouro': 'Avenida Castelo Branco',\n",
      " 'Num': 133,\n",
      " '_id': ObjectId('5f2c560ef3d4305121baf7ec'),\n",
      " 'nome': 'Maria',\n",
      " 'profissao': 'Advogada'}\n",
      "{'CRM': 'Sim',\n",
      " '_id': ObjectId('5f2c57faf3d4305121baf7ed'),\n",
      " 'nome': 'José Roberto',\n",
      " 'profissao': 'Médico'}\n",
      "{'_id': ObjectId('5f2c751789bda77e9d61201f'),\n",
      " 'nome': 'Maria',\n",
      " 'profissao': 'Advogada'}\n",
      "{'CRM': 'Sim',\n",
      " '_id': ObjectId('5f2c752889bda77e9d612020'),\n",
      " 'nome': 'José Roberto',\n",
      " 'profissao': 'Médico'}\n"
     ]
    }
   ],
   "source": [
    "for docs in colecao.find():\n",
    "    pprint.pprint(docs)"
   ]
  },
  {
   "cell_type": "code",
   "execution_count": 33,
   "metadata": {},
   "outputs": [],
   "source": [
    "import json"
   ]
  },
  {
   "cell_type": "code",
   "execution_count": 1,
   "metadata": {},
   "outputs": [],
   "source": [
    "# data_collection = []\n",
    "# with open(\"/home/rafael/Bootcamp-Data-Scientist/Module_2 - Coleta de Dados/MongoDB_Python/data_insert.json\") as file:\n",
    "#     data = json.load(file)\n",
    "#     colecao.insert_many(data)\n",
    "#         data = json.loads(line)\n",
    "#         data_collection.append(data)\n",
    "    \n",
    "#     colecao.insert_many(data_collection)"
   ]
  },
  {
   "cell_type": "code",
   "execution_count": 35,
   "metadata": {},
   "outputs": [
    {
     "data": {
      "text/plain": [
       "<pymongo.results.UpdateResult at 0x7fc1180f8d80>"
      ]
     },
     "execution_count": 35,
     "metadata": {},
     "output_type": "execute_result"
    }
   ],
   "source": [
    "condicao = {'nome': 'Maria'}\n",
    "valor = {'$set':{'Logradouro': \"Avenida Castelo Branco\", 'Num': 133}}\n",
    "\n",
    "colecao.update_one(condicao, valor)"
   ]
  },
  {
   "cell_type": "code",
   "execution_count": 36,
   "metadata": {},
   "outputs": [
    {
     "name": "stdout",
     "output_type": "stream",
     "text": [
      "{'Logradouro': 'Avenida Castelo Branco',\n",
      " 'Num': 133,\n",
      " '_id': ObjectId('5f2c560ef3d4305121baf7ec'),\n",
      " 'nome': 'Maria',\n",
      " 'profissao': 'Advogada'}\n",
      "{'CRM': 'Sim',\n",
      " '_id': ObjectId('5f2c57faf3d4305121baf7ed'),\n",
      " 'nome': 'José Roberto',\n",
      " 'profissao': 'Médico'}\n",
      "{'_id': ObjectId('5f2c751789bda77e9d61201f'),\n",
      " 'nome': 'Maria',\n",
      " 'profissao': 'Advogada'}\n",
      "{'CRM': 'Sim',\n",
      " '_id': ObjectId('5f2c752889bda77e9d612020'),\n",
      " 'nome': 'José Roberto',\n",
      " 'profissao': 'Médico'}\n"
     ]
    }
   ],
   "source": [
    "for docs in colecao.find():\n",
    "    pprint.pprint(docs)"
   ]
  },
  {
   "cell_type": "code",
   "execution_count": null,
   "metadata": {},
   "outputs": [],
   "source": []
  }
 ],
 "metadata": {
  "kernelspec": {
   "display_name": "Python 3",
   "language": "python",
   "name": "python3"
  },
  "language_info": {
   "codemirror_mode": {
    "name": "ipython",
    "version": 3
   },
   "file_extension": ".py",
   "mimetype": "text/x-python",
   "name": "python",
   "nbconvert_exporter": "python",
   "pygments_lexer": "ipython3",
   "version": "3.8.3"
  }
 },
 "nbformat": 4,
 "nbformat_minor": 4
}
