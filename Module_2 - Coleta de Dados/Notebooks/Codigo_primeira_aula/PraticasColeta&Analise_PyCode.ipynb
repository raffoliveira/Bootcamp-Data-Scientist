{
 "cells": [
  {
   "cell_type": "markdown",
   "metadata": {},
   "source": [
    "# Coleta de Dados no MySQL utilizando o Python"
   ]
  },
  {
   "cell_type": "markdown",
   "metadata": {},
   "source": [
    "#### Antes de executar este notebook pela primeira vez, instale o pacote mysql.connector\n",
    "\n",
    "Para instalar o pacote, utilizando o prompt do Anaconda, execute o comando abaixo:\n",
    "\n",
    "##### *conda install -c anaconda mysql-connector-python*"
   ]
  },
  {
   "cell_type": "code",
   "execution_count": null,
   "metadata": {},
   "outputs": [],
   "source": [
    "# importa pacote SEMPRE antes de usar\n",
    "\n",
    "import mysql.connector"
   ]
  },
  {
   "cell_type": "code",
   "execution_count": null,
   "metadata": {},
   "outputs": [],
   "source": [
    "# conexão ao SGBD\n",
    "mydb = mysql.connector.connect(\n",
    "    host='localhost',\n",
    "    user='root',\n",
    "    password='igti',\n",
    "    database='aula1'\n",
    ")\n",
    "\n",
    "print(mydb)\n",
    "\n",
    "mycursor = mydb.cursor()"
   ]
  },
  {
   "cell_type": "code",
   "execution_count": null,
   "metadata": {},
   "outputs": [],
   "source": [
    "mycursor.execute(\"SHOW TABLES\")\n",
    "\n",
    "for db in mycursor:\n",
    "    print(db)"
   ]
  },
  {
   "cell_type": "code",
   "execution_count": null,
   "metadata": {},
   "outputs": [],
   "source": [
    "mycursor.execute(\"SELECT * FROM caracteristicasgerais\")\n",
    "\n",
    "myresult = mycursor.fetchall()\n",
    "\n",
    "for mydata in myresult:\n",
    "    print(mydata)"
   ]
  },
  {
   "cell_type": "code",
   "execution_count": null,
   "metadata": {},
   "outputs": [],
   "source": [
    "# Inserir dados em uma tabela\n",
    "\n",
    "query = \"INSERT INTO caracteristicasgerais (idcaracteristicasGerais, dsccaracteristicasGerais) VALUES (%s, %s)\"\n",
    "values = (1, \"Portaria 24 horas\")\n",
    "\n",
    "mycursor.execute(query, values)\n",
    "\n",
    "#Fazer a confirmação da inserção\n",
    "#mydb.commit()\n",
    "\n",
    "#print(mycursor.rowcount, \"registro(s) inserido(s).\")"
   ]
  },
  {
   "cell_type": "code",
   "execution_count": null,
   "metadata": {},
   "outputs": [],
   "source": [
    "mydb.commit()\n",
    "\n",
    "print(mycursor.rowcount, \"registro(s) inserido(s).\")"
   ]
  },
  {
   "cell_type": "code",
   "execution_count": null,
   "metadata": {},
   "outputs": [],
   "source": [
    "mycursor.execute(\"SELECT * FROM caracteristicasgerais\")\n",
    "\n",
    "myresult = mycursor.fetchall()\n",
    "\n",
    "for mydata in myresult:\n",
    "    print(mydata)"
   ]
  },
  {
   "cell_type": "code",
   "execution_count": null,
   "metadata": {},
   "outputs": [],
   "source": [
    "#Inserindo multiplos valores\n",
    "values = [(2, \"Elevador\"),(3,\"Piscina\")]\n",
    "\n",
    "mycursor.executemany(query, values)\n",
    "\n",
    "#mydb.commit()\n",
    "\n",
    "#print(mycursor.rowcount, \"registro(s) inserido(s).\")"
   ]
  },
  {
   "cell_type": "code",
   "execution_count": null,
   "metadata": {},
   "outputs": [],
   "source": [
    "mycursor.execute(\"SELECT * FROM caracteristicasgerais\")\n",
    "\n",
    "myresult = mycursor.fetchall()\n",
    "\n",
    "for mydata in myresult:\n",
    "    print(mydata)"
   ]
  },
  {
   "cell_type": "code",
   "execution_count": null,
   "metadata": {},
   "outputs": [],
   "source": [
    "import csv\n",
    "\n",
    "#Leitura de arquivo sem utilizar biblioteca Pandas\n",
    "\n",
    "filename = 'C:\\Bootcamp\\Datasets\\CSV\\cidades.csv'"
   ]
  },
  {
   "cell_type": "code",
   "execution_count": null,
   "metadata": {},
   "outputs": [],
   "source": [
    "with open(filename, 'r') as incsvfile:\n",
    "    reader = csv.reader(incsvfile, delimiter=',')\n",
    "    next(reader, None)  # skip the headers\n",
    "    query = \"INSERT INTO cidade (CodigoCompletoIBGE, CodigoCidadeIBGE, NomeCidade, CodEstadoIBGE) VALUES (%s, %s, %s, %s)\"    \n",
    "    for line in reader:       \n",
    "        #mycursor.execute (\"INSERT INTO cidade (CodigoCompletoIBGE, CodigoCidadeIBGE, NomeCidade, CodEstadoIBGE)\\\n",
    "        #          VALUES (%s, %s, %s, %s)\",line)        \n",
    "        mycursor.execute(query, line)"
   ]
  },
  {
   "cell_type": "code",
   "execution_count": null,
   "metadata": {},
   "outputs": [],
   "source": [
    "mydb.commit()\n",
    "\n",
    "# Fecha arquivo\n",
    "incsvfile.close()"
   ]
  },
  {
   "cell_type": "code",
   "execution_count": null,
   "metadata": {},
   "outputs": [],
   "source": [
    "mycursor.execute(\"SELECT count(*) FROM cidade\")\n",
    "\n",
    "myresult = mycursor.fetchone()\n",
    "\n",
    "print(myresult)"
   ]
  },
  {
   "cell_type": "code",
   "execution_count": null,
   "metadata": {},
   "outputs": [],
   "source": [
    "# fecha conexão\n",
    "mydb.close()"
   ]
  },
  {
   "cell_type": "markdown",
   "metadata": {},
   "source": [
    "## Agora vamos usar o Knime "
   ]
  },
  {
   "cell_type": "markdown",
   "metadata": {},
   "source": [
    "##### Vamos realizar a atividade 12"
   ]
  },
  {
   "cell_type": "markdown",
   "metadata": {},
   "source": [
    "### Retornamos com a atividade 10"
   ]
  },
  {
   "cell_type": "code",
   "execution_count": null,
   "metadata": {},
   "outputs": [],
   "source": [
    "mydb = mysql.connector.connect(\n",
    "    host='localhost',\n",
    "    user='root',\n",
    "    password='igti',\n",
    "    database='aula1'\n",
    ")\n",
    "\n",
    "mycursor = mydb.cursor()"
   ]
  },
  {
   "cell_type": "code",
   "execution_count": null,
   "metadata": {},
   "outputs": [],
   "source": [
    "filename = 'C:\\Bootcamp\\Datasets\\TXT\\caracteristicaImovel.txt'\n",
    "\n",
    "with open(filename, \"r\", encoding='utf-8') as fileobject:\n",
    "    for line in fileobject:\n",
    "        query = \"INSERT INTO caracteristicageralimovel (idcaracteristicasGerais,idImovel,temCaracteristica)\\\n",
    "            VALUES (%s)\" % line\n",
    "        mycursor.execute(query)\n",
    "\n",
    "mydb.commit()"
   ]
  },
  {
   "cell_type": "code",
   "execution_count": null,
   "metadata": {},
   "outputs": [],
   "source": [
    "#Consultar a tabela\n",
    "mycursor.execute(\"SELECT * FROM caracteristicageralimovel\")\n",
    "\n",
    "myresult = mycursor.fetchall() #todos os registros\n",
    "\n",
    "for mydata in myresult:\n",
    "    print(mydata)\n"
   ]
  },
  {
   "cell_type": "markdown",
   "metadata": {},
   "source": [
    "##### Testar as assertivas"
   ]
  },
  {
   "cell_type": "code",
   "execution_count": null,
   "metadata": {},
   "outputs": [],
   "source": [
    "query = \"INSERT INTO caracteristicageralimovel (idcaracteristicasGerais,idImovel,temCaracteristica) VALUES (%s, %s, %s)\"     \n",
    "values = (4,22,1)\n",
    "\n",
    "mycursor.execute(query, values)\n",
    "\n",
    "mydb.commit()\n",
    "\n",
    "print(mycursor.rowcount, \"registro(s) inserido(s).\")"
   ]
  },
  {
   "cell_type": "code",
   "execution_count": null,
   "metadata": {},
   "outputs": [],
   "source": [
    "query = \"INSERT INTO caracteristicageralimovel (idcaracteristicasGerais,idImovel,\\\n",
    "temCaracteristica) VALUES\\\n",
    "(%s, %s, %s)\"     \n",
    "values = [(4,22,1),(4,23,1),(4,26,0)]\n",
    "          \n",
    "mycursor.executemany(query, values)\n",
    "\n",
    "mydb.commit()\n",
    "\n",
    "print(mycursor.rowcount, \"registro(s) inserido(s).\")"
   ]
  },
  {
   "cell_type": "code",
   "execution_count": null,
   "metadata": {},
   "outputs": [],
   "source": [
    "value = \"6,29,0\"\n",
    "query = \"INSERT INTO caracteristicageralimovel (idcaracteristicasGerais,idImovel,\\\n",
    "        temCaracteristica) VALUES (%s)\" % value\n",
    "\n",
    "mycursor.execute(query, value)\n",
    "\n",
    "mydb.commit()\n",
    "\n",
    "print(mycursor.rowcount, \"registro(s) inserido(s).\")"
   ]
  },
  {
   "cell_type": "code",
   "execution_count": null,
   "metadata": {},
   "outputs": [],
   "source": [
    "query = \"INSERT INTO caracteristicageralimovel (idcaracteristicasGerais,idImovel,\\\n",
    "temCaracteristica) VALUES (%s, %s, %s)\"     \n",
    "values = (4,22,1)\n",
    "          \n",
    "mycursor.sendQuery(query, values)\n",
    "\n",
    "mydb.commit()\n",
    "\n",
    "print(mycursor.rowcount, \"registro(s) inserido(s).\")"
   ]
  },
  {
   "cell_type": "code",
   "execution_count": null,
   "metadata": {},
   "outputs": [],
   "source": [
    "mydb.close() #fecha BD\n",
    "infile.close() #Fechar arquivo"
   ]
  },
  {
   "cell_type": "markdown",
   "metadata": {},
   "source": [
    "### Voltamos ao Knime para realizar a atividade 13"
   ]
  },
  {
   "cell_type": "code",
   "execution_count": null,
   "metadata": {},
   "outputs": [],
   "source": []
  }
 ],
 "metadata": {
  "kernelspec": {
   "display_name": "Python 3",
   "language": "python",
   "name": "python3"
  },
  "language_info": {
   "codemirror_mode": {
    "name": "ipython",
    "version": 3
   },
   "file_extension": ".py",
   "mimetype": "text/x-python",
   "name": "python",
   "nbconvert_exporter": "python",
   "pygments_lexer": "ipython3",
   "version": "3.7.1"
  }
 },
 "nbformat": 4,
 "nbformat_minor": 4
}
