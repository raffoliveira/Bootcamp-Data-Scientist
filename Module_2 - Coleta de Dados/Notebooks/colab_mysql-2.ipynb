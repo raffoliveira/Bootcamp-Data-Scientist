{
  "nbformat": 4,
  "nbformat_minor": 0,
  "metadata": {
    "colab": {
      "name": "colab-mysql.ipynb",
      "provenance": [],
      "collapsed_sections": [],
      "toc_visible": true
    },
    "kernelspec": {
      "name": "python3",
      "display_name": "Python 3"
    }
  },
  "cells": [
    {
      "cell_type": "markdown",
      "metadata": {
        "id": "soMEr9SL3rPB",
        "colab_type": "text"
      },
      "source": [
        "# Working with MySQL on colab"
      ]
    },
    {
      "cell_type": "markdown",
      "metadata": {
        "id": "0GRiwQ6-31fD",
        "colab_type": "text"
      },
      "source": [
        "## Install and setup MySQL on Colab "
      ]
    },
    {
      "cell_type": "code",
      "metadata": {
        "id": "03nWmMtr0DrH",
        "colab_type": "code",
        "colab": {
          "base_uri": "https://localhost:8080/",
          "height": 69
        },
        "outputId": "ee685549-d166-42a7-877f-70515aad808c"
      },
      "source": [
        "#Here's how I install and setup MySQL on Colab\n",
        "# install, set connection\n",
        "!apt-get install mysql-server > /dev/null\n",
        "!service mysql start\n",
        "!mysql -e \"ALTER USER 'root'@'localhost' IDENTIFIED WITH mysql_native_password BY 'igti'\""
      ],
      "execution_count": null,
      "outputs": [
        {
          "output_type": "stream",
          "text": [
            " * Starting MySQL database server mysqld\n",
            "No directory, logging in with HOME=/\n",
            "   ...done.\n"
          ],
          "name": "stdout"
        }
      ]
    },
    {
      "cell_type": "markdown",
      "metadata": {
        "id": "fcWftO0b4Mg1",
        "colab_type": "text"
      },
      "source": [
        "## Install and import pymsql package"
      ]
    },
    {
      "cell_type": "code",
      "metadata": {
        "id": "7oOkwZ_psOL4",
        "colab_type": "code",
        "colab": {
          "base_uri": "https://localhost:8080/",
          "height": 35
        },
        "outputId": "946beb13-b299-4b95-88df-7aa0398c8572"
      },
      "source": [
        "!pip install pymysql"
      ],
      "execution_count": null,
      "outputs": [
        {
          "output_type": "stream",
          "text": [
            "Requirement already satisfied: pymysql in /usr/local/lib/python3.6/dist-packages (0.9.3)\n"
          ],
          "name": "stdout"
        }
      ]
    },
    {
      "cell_type": "code",
      "metadata": {
        "id": "3b8LBMsT4aMb",
        "colab_type": "code",
        "colab": {}
      },
      "source": [
        "import pymysql"
      ],
      "execution_count": null,
      "outputs": []
    },
    {
      "cell_type": "markdown",
      "metadata": {
        "id": "A4HtMa5m4fbj",
        "colab_type": "text"
      },
      "source": [
        "## Working on MySQL Server Colab"
      ]
    },
    {
      "cell_type": "code",
      "metadata": {
        "id": "jjxYU7mBsxUC",
        "colab_type": "code",
        "colab": {}
      },
      "source": [
        "mydb = pymysql.connect(\n",
        "    host='localhost',\n",
        "    port=3306,\n",
        "    user=\"root\",\n",
        "    passwd='igti')\n"
      ],
      "execution_count": null,
      "outputs": []
    },
    {
      "cell_type": "code",
      "metadata": {
        "id": "WFjFz376tN6i",
        "colab_type": "code",
        "colab": {
          "base_uri": "https://localhost:8080/",
          "height": 87
        },
        "outputId": "46de69b8-b6eb-4092-eba3-3cd45fb1a8e3"
      },
      "source": [
        "mycursor = mydb.cursor()\n",
        "\n",
        "mycursor.execute(\"SHOW DATABASES\")\n",
        "\n",
        "for db in mycursor:\n",
        "    print(db)"
      ],
      "execution_count": null,
      "outputs": [
        {
          "output_type": "stream",
          "text": [
            "('information_schema',)\n",
            "('mysql',)\n",
            "('performance_schema',)\n",
            "('sys',)\n"
          ],
          "name": "stdout"
        }
      ]
    },
    {
      "cell_type": "markdown",
      "metadata": {
        "id": "G3Spk4Tp4n8M",
        "colab_type": "text"
      },
      "source": [
        "### Create database"
      ]
    },
    {
      "cell_type": "code",
      "metadata": {
        "id": "gafOC5Awto9L",
        "colab_type": "code",
        "colab": {
          "base_uri": "https://localhost:8080/",
          "height": 35
        },
        "outputId": "8c932167-4249-4dd1-c423-487c84fadb95"
      },
      "source": [
        "mycursor.execute(\"CREATE DATABASE mydatabase\")"
      ],
      "execution_count": null,
      "outputs": [
        {
          "output_type": "execute_result",
          "data": {
            "text/plain": [
              "1"
            ]
          },
          "metadata": {
            "tags": []
          },
          "execution_count": 19
        }
      ]
    },
    {
      "cell_type": "code",
      "metadata": {
        "id": "5vkxBelptuiG",
        "colab_type": "code",
        "colab": {
          "base_uri": "https://localhost:8080/",
          "height": 104
        },
        "outputId": "3919cc52-e65f-4106-d970-7fd33af05f12"
      },
      "source": [
        "mycursor.execute(\"SHOW DATABASES\")\n",
        "\n",
        "for db in mycursor:\n",
        "    print(db)"
      ],
      "execution_count": null,
      "outputs": [
        {
          "output_type": "stream",
          "text": [
            "('information_schema',)\n",
            "('mydatabase',)\n",
            "('mysql',)\n",
            "('performance_schema',)\n",
            "('sys',)\n"
          ],
          "name": "stdout"
        }
      ]
    },
    {
      "cell_type": "code",
      "metadata": {
        "id": "_2ZR8eGvt3PE",
        "colab_type": "code",
        "colab": {
          "base_uri": "https://localhost:8080/",
          "height": 35
        },
        "outputId": "87d51eb5-38cb-4b6d-c157-17dcad7b099d"
      },
      "source": [
        "#connect to your database\n",
        "\n",
        "mydb = mysql.connector.connect(\n",
        "    host='localhost',\n",
        "    user='root',\n",
        "    password='igti',\n",
        "    database='mydatabase'\n",
        ")\n",
        "\n",
        "print(mydb)\n",
        "\n",
        "mycursor = mydb.cursor()"
      ],
      "execution_count": null,
      "outputs": [
        {
          "output_type": "stream",
          "text": [
            "<mysql.connector.connection.MySQLConnection object at 0x7f3c55d0e978>\n"
          ],
          "name": "stdout"
        }
      ]
    },
    {
      "cell_type": "code",
      "metadata": {
        "id": "e_JHLSYyt-zI",
        "colab_type": "code",
        "colab": {}
      },
      "source": [
        "mycursor.execute(\"SHOW TABLES\")\n",
        "\n",
        "for db in mycursor:\n",
        "    print(db)"
      ],
      "execution_count": null,
      "outputs": []
    },
    {
      "cell_type": "markdown",
      "metadata": {
        "id": "fT7aqdrL41nE",
        "colab_type": "text"
      },
      "source": [
        "### Create tables"
      ]
    },
    {
      "cell_type": "code",
      "metadata": {
        "id": "ZU6VDWpzqGGl",
        "colab_type": "code",
        "colab": {}
      },
      "source": [
        "#Criar uma tabela\n",
        "\n",
        "mycursor.execute (\"CREATE TABLE IF NOT EXISTS departamento (\\\n",
        "  `cod_depto` INT(11) NOT NULL AUTO_INCREMENT,\\\n",
        "  `nome_depto` VARCHAR(100) NOT NULL,\\\n",
        "  PRIMARY KEY (`cod_depto`))\")"
      ],
      "execution_count": null,
      "outputs": []
    },
    {
      "cell_type": "code",
      "metadata": {
        "id": "sXvALnd0uag9",
        "colab_type": "code",
        "colab": {
          "base_uri": "https://localhost:8080/",
          "height": 35
        },
        "outputId": "b5e4411e-5312-4c1c-9eec-e96355b65ef1"
      },
      "source": [
        "mycursor.execute(\"SHOW TABLES\")\n",
        "\n",
        "for db in mycursor:\n",
        "    print(db)"
      ],
      "execution_count": null,
      "outputs": [
        {
          "output_type": "stream",
          "text": [
            "('departamento',)\n"
          ],
          "name": "stdout"
        }
      ]
    },
    {
      "cell_type": "code",
      "metadata": {
        "id": "-aX8zXykueSn",
        "colab_type": "code",
        "colab": {}
      },
      "source": [
        "#Criar uma tabela\n",
        "\n",
        "mycursor.execute (\"CREATE TABLE IF NOT EXISTS `funcionario` (\\\n",
        "  `id_func` INT(11) NOT NULL AUTO_INCREMENT,\\\n",
        "  `nome_func` VARCHAR(255) NOT NULL,\\\n",
        "  `nascimento` DATE NOT NULL,\\\n",
        "  `salario` DECIMAL(10,2) NULL,\\\n",
        "  `depto` INT(11) NULL,\\\n",
        "  PRIMARY KEY (`id_func`),\\\n",
        "  CONSTRAINT `fk_funcionario_departamento`\\\n",
        "    FOREIGN KEY (`depto`)\\\n",
        "    REFERENCES departamento (`cod_depto`))\")"
      ],
      "execution_count": null,
      "outputs": []
    },
    {
      "cell_type": "code",
      "metadata": {
        "id": "vkbx-4Adu6lu",
        "colab_type": "code",
        "colab": {
          "base_uri": "https://localhost:8080/",
          "height": 52
        },
        "outputId": "9d161ff4-dbf0-4d51-92bc-ea4b8fe977b0"
      },
      "source": [
        "mycursor.execute(\"SHOW TABLES\")\n",
        "\n",
        "for db in mycursor:\n",
        "    print(db)"
      ],
      "execution_count": null,
      "outputs": [
        {
          "output_type": "stream",
          "text": [
            "('departamento',)\n",
            "('funcionario',)\n"
          ],
          "name": "stdout"
        }
      ]
    },
    {
      "cell_type": "markdown",
      "metadata": {
        "id": "a6YbnWzH48kh",
        "colab_type": "text"
      },
      "source": [
        "### Insert data on table from a read TXT file "
      ]
    },
    {
      "cell_type": "markdown",
      "metadata": {
        "id": "qRDXC-mM5Ocj",
        "colab_type": "text"
      },
      "source": [
        "\n",
        "This file should be uploaded before"
      ]
    },
    {
      "cell_type": "code",
      "metadata": {
        "id": "8EZlnd7qwtc7",
        "colab_type": "code",
        "colab": {
          "base_uri": "https://localhost:8080/",
          "height": 208
        },
        "outputId": "b4a20c7d-c8bd-4f82-a662-4a5d7a896089"
      },
      "source": [
        "try:\n",
        "  fileobject=open('/content/departamento.txt', \"r\", encoding='utf-8')\n",
        "  filelines =fileobject.readlines()\n",
        "\n",
        "  #Loop -> Para cada linha (line) da lista de linhas filelines\n",
        "  for line in filelines:\n",
        "    #print(line) #imprime o valor da linha, end='' exclui quebra de linha\n",
        "    query = line\n",
        "    mycursor.execute(query)\n",
        "  #Fecha o objeto de leitura do arquivo        \n",
        "  fileobject.close()\n",
        "  mydb.commit()\n",
        "\n",
        "except FileNotFoundError:\n",
        "  print('\\nERRO AO TENTAR LER O ARQUIVO !! \\nO arquivo '+filename+' não existe!')"
      ],
      "execution_count": null,
      "outputs": [
        {
          "output_type": "stream",
          "text": [
            "INSERT INTO departamento (cod_depto,nome_depto) VALUES(1,'Recursos humanos');\n",
            "\n",
            "INSERT INTO departamento (cod_depto,nome_depto) VALUES(2,'Informática');\n",
            "\n",
            "INSERT INTO departamento (cod_depto,nome_depto) VALUES(3,'Marketing'),(4,'Infra'),(5,'Jurídico');\n",
            "\n",
            "INSERT INTO departamento (cod_depto,nome_depto) VALUES(6,'Compras');\n",
            "\n",
            "INSERT INTO departamento (cod_depto,nome_depto) VALUES(7,'Estoque');\n",
            "\n",
            "INSERT INTO departamento (cod_depto,nome_depto) VALUES(8,'Financeiro');\n"
          ],
          "name": "stdout"
        }
      ]
    },
    {
      "cell_type": "markdown",
      "metadata": {
        "id": "xwjynUbA5ecp",
        "colab_type": "text"
      },
      "source": [
        "### Query table"
      ]
    },
    {
      "cell_type": "code",
      "metadata": {
        "id": "M6A7-coMyAtI",
        "colab_type": "code",
        "colab": {
          "base_uri": "https://localhost:8080/",
          "height": 156
        },
        "outputId": "21cdb2f6-ca25-4590-dbbf-5ec145cb71b2"
      },
      "source": [
        "mycursor.execute(\"SELECT * FROM departamento\")\n",
        "\n",
        "myresult = mycursor.fetchall()\n",
        "\n",
        "for mydata in myresult:\n",
        "    print(mydata)"
      ],
      "execution_count": null,
      "outputs": [
        {
          "output_type": "stream",
          "text": [
            "(1, 'Recursos humanos')\n",
            "(2, 'Informática')\n",
            "(3, 'Marketing')\n",
            "(4, 'Infra')\n",
            "(5, 'Jurídico')\n",
            "(6, 'Compras')\n",
            "(7, 'Estoque')\n",
            "(8, 'Financeiro')\n"
          ],
          "name": "stdout"
        }
      ]
    },
    {
      "cell_type": "markdown",
      "metadata": {
        "id": "885xK1JY5lym",
        "colab_type": "text"
      },
      "source": [
        "### Update table"
      ]
    },
    {
      "cell_type": "code",
      "metadata": {
        "id": "zHu95eneyTGC",
        "colab_type": "code",
        "colab": {}
      },
      "source": [
        "query = \"UPDATE `departamento` SET `nome_depto` = 'Infraestrutura' WHERE `nome_depto` = 'Infra';\"\n",
        "mycursor.execute(query)\n",
        "mydb.commit()"
      ],
      "execution_count": null,
      "outputs": []
    },
    {
      "cell_type": "code",
      "metadata": {
        "id": "pdrU_yB5yThL",
        "colab_type": "code",
        "colab": {
          "base_uri": "https://localhost:8080/",
          "height": 35
        },
        "outputId": "73e9bb50-b5ef-4923-d4bb-30512aa1db1f"
      },
      "source": [
        "mycursor.execute(\"SELECT * FROM departamento where nome_depto Like 'Infra%'\")\n",
        "\n",
        "myresult = mycursor.fetchone()\n",
        "\n",
        "print(myresult)"
      ],
      "execution_count": null,
      "outputs": [
        {
          "output_type": "stream",
          "text": [
            "(4, 'Infraestrutura')\n"
          ],
          "name": "stdout"
        }
      ]
    },
    {
      "cell_type": "code",
      "metadata": {
        "id": "pmCEX2agyTuv",
        "colab_type": "code",
        "colab": {}
      },
      "source": [
        ""
      ],
      "execution_count": null,
      "outputs": []
    },
    {
      "cell_type": "code",
      "metadata": {
        "id": "nxoP06Bvxh8q",
        "colab_type": "code",
        "colab": {}
      },
      "source": [
        ""
      ],
      "execution_count": null,
      "outputs": []
    },
    {
      "cell_type": "code",
      "metadata": {
        "id": "wh345slKuLPe",
        "colab_type": "code",
        "colab": {}
      },
      "source": [
        ""
      ],
      "execution_count": null,
      "outputs": []
    },
    {
      "cell_type": "code",
      "metadata": {
        "id": "K1u7oa3n0PS7",
        "colab_type": "code",
        "colab": {}
      },
      "source": [
        ""
      ],
      "execution_count": null,
      "outputs": []
    }
  ]
}