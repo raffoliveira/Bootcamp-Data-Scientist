{
 "cells": [
  {
   "cell_type": "markdown",
   "metadata": {},
   "source": [
    "# Coleta de Dados em Arquivo CSV"
   ]
  },
  {
   "cell_type": "code",
   "execution_count": null,
   "metadata": {},
   "outputs": [],
   "source": [
    "# -*- coding: utf-8 -*-"
   ]
  },
  {
   "cell_type": "markdown",
   "metadata": {},
   "source": [
    "### <font color=red>Lembre-se , SEMPRE é necessário instalar um pacote/biblioteca do Python antes de usá-lo</font>\n",
    "\n",
    "A instalação é realizada apenas na primeira vez, uma vez instalado, você pode atualizar (update) se necessário.\n",
    "\n",
    "O comando abaixo é usado para a instalação de pacote via <font color=green>prompt de comando do Anaconda</font>\n",
    "\n",
    "**Sintaxe:**  *conda install -c nome-do-canal nome-do-pacote*\n",
    "    \n",
    "    *Exemplo:* conda install -c anaconda pandas"
   ]
  },
  {
   "cell_type": "markdown",
   "metadata": {},
   "source": [
    "#### 1º) Importa bibliotecas "
   ]
  },
  {
   "cell_type": "code",
   "execution_count": null,
   "metadata": {},
   "outputs": [],
   "source": [
    "import csv\n",
    "import os\n",
    "import pandas as pd\n",
    "import matplotlib.pyplot as plt"
   ]
  },
  {
   "cell_type": "markdown",
   "metadata": {},
   "source": [
    "#### 2º) Define métodos "
   ]
  },
  {
   "cell_type": "code",
   "execution_count": null,
   "metadata": {},
   "outputs": [],
   "source": [
    "#classe para formatar a função print()\n",
    "class color:\n",
    "   PURPLE = '\\033[95m'\n",
    "   CYAN = '\\033[96m'\n",
    "   DARKCYAN = '\\033[36m'\n",
    "   BLUE = '\\033[94m'\n",
    "   GREEN = '\\033[92m'\n",
    "   YELLOW = '\\033[93m'\n",
    "   RED = '\\033[91m'\n",
    "   ORANGE ='\\033[33m'\n",
    "   BOLD = '\\033[1m'\n",
    "   UNDERLINE = '\\033[4m'\n",
    "   END = '\\033[0m'"
   ]
  },
  {
   "cell_type": "code",
   "execution_count": null,
   "metadata": {},
   "outputs": [],
   "source": [
    "# Função que retorna o diretório de Datasets \n",
    "def setDatasetPath():\n",
    "    return 'C:\\Bootcamp\\Datasets\\CSV'"
   ]
  },
  {
   "cell_type": "markdown",
   "metadata": {},
   "source": [
    "#### 3º) Executa os métodos e comandos (Main) "
   ]
  },
  {
   "cell_type": "code",
   "execution_count": null,
   "metadata": {},
   "outputs": [],
   "source": [
    "#Define o diretório dos arquivos\n",
    "\n",
    "datasetPath = setDatasetPath()"
   ]
  },
  {
   "cell_type": "markdown",
   "metadata": {},
   "source": [
    "##### Leitura de arquivo sem utilizar biblioteca Pandas"
   ]
  },
  {
   "cell_type": "code",
   "execution_count": null,
   "metadata": {},
   "outputs": [],
   "source": [
    "#Leitura de arquivo sem utilizar biblioteca Pandas\n",
    "\n",
    "filename = datasetPath +'\\\\contabilidade.csv'\n",
    "\n",
    "with open(filename, 'r') as incsvfile:\n",
    "    reader = csv.reader(incsvfile, delimiter=',')\n",
    "    for line in reader:\n",
    "        print(line)\n",
    "\n",
    "incsvfile.close()"
   ]
  },
  {
   "cell_type": "markdown",
   "metadata": {},
   "source": [
    "##### Descrição dos colunas do arquivo contabilidadeEmpresa.csv:\n",
    "\n",
    "* **CAP** --> Tipo de SA: (0: Capital Aberto e 1: Capital Fechado) &nbsp;\n",
    "* **TAM** --> Tamanho: (1: Pequena, 2: Média e 3: Grande) &nbsp;\n",
    "* **PL** --> Patrimônio Líquido &nbsp;\n",
    "* **AC** --> Ativo Circulante &nbsp;\n",
    "* **PC** --> Passivo Circulante &nbsp;\n",
    "* **AP** --> Ativo Permanente &nbsp;\n",
    "* **ARLP** --> Ativo R. L. P. (*Retail Liquidity Provider* - Provedor de Liquidez para o Varejo) &nbsp;\n",
    "* **PELP** --> Passivo E. L. P. (Passivo exigível a longo prazo) &nbsp;\n",
    "* **VLL** --> Percentual de Lucro Líquido &nbsp;"
   ]
  },
  {
   "cell_type": "code",
   "execution_count": null,
   "metadata": {},
   "outputs": [],
   "source": [
    "with open(datasetPath +'\\\\sumarioContabilidade.csv', 'w', newline='') as outcsvfile:\n",
    "    \n",
    "    writer = csv.writer(outcsvfile)\n",
    "    writer.writerow(['ID', 'CAP', 'TAM', 'PL'])\n",
    "    with open(filename, 'r') as incsvfile:\n",
    "        \n",
    "        fieldnames = ['ID', 'CAP', 'TAM', 'PL']\n",
    "        reader = csv.DictReader(incsvfile, fieldnames=fieldnames)\n",
    "    \n",
    "        reader.__next__()\n",
    "    \n",
    "        for row in reader:\n",
    "            #print( row['ID'] + ', ' +  row['CAP'] + ', ' +  row['TAM'] + ', ' +  row['PL'])\n",
    "            writer.writerow([row['ID'], row['CAP'], row['TAM'], row['PL']])           \n",
    "\n",
    "incsvfile.close()\n",
    "outcsvfile.close()"
   ]
  },
  {
   "cell_type": "code",
   "execution_count": null,
   "metadata": {},
   "outputs": [],
   "source": [
    "#Lê os arquivos de um diretório específico\n",
    "filelist = os.listdir(datasetPath)\n",
    "print(color.BOLD+color.RED+'\\nA lista de arquivos e/ou diretórios é:'+color.END)\n",
    "print(filelist)"
   ]
  },
  {
   "cell_type": "markdown",
   "metadata": {},
   "source": [
    "##### Leitura de arquivo utilizando a biblioteca Pandas"
   ]
  },
  {
   "cell_type": "code",
   "execution_count": null,
   "metadata": {},
   "outputs": [],
   "source": [
    "#Lê o arquivo\n",
    "iris = pd.read_csv(datasetPath +'\\\\Iris.csv')\n"
   ]
  },
  {
   "cell_type": "code",
   "execution_count": null,
   "metadata": {},
   "outputs": [],
   "source": [
    "iris.head() #imprime as 5 primeiras linhas (Default)"
   ]
  },
  {
   "cell_type": "code",
   "execution_count": null,
   "metadata": {},
   "outputs": [],
   "source": [
    "iris.head(2) #imprime as 2 primeiras linhas"
   ]
  },
  {
   "cell_type": "code",
   "execution_count": null,
   "metadata": {},
   "outputs": [],
   "source": [
    "iris.tail() #imprime as 5 últimas linhas"
   ]
  },
  {
   "cell_type": "code",
   "execution_count": null,
   "metadata": {},
   "outputs": [],
   "source": [
    "# removendo a coluna id, a qual não é necessária para análise\n",
    "del iris['Id']"
   ]
  },
  {
   "cell_type": "code",
   "execution_count": null,
   "metadata": {},
   "outputs": [],
   "source": [
    "iris.head(2) #imprime as 2 primeiras linhas"
   ]
  },
  {
   "cell_type": "code",
   "execution_count": null,
   "metadata": {},
   "outputs": [],
   "source": [
    "#Salva o resultado em outro arquivo csv\n",
    "\n",
    "iris.to_csv(datasetPath +'\\\\Iris_Novo.csv')"
   ]
  },
  {
   "cell_type": "code",
   "execution_count": null,
   "metadata": {},
   "outputs": [],
   "source": [
    "#Lê os arquivos de um diretório específico\n",
    "filelist = os.listdir(datasetPath)\n",
    "print(color.BOLD+color.RED+'\\nA lista de arquivos e/ou diretórios é:'+color.END)\n",
    "print(filelist)"
   ]
  },
  {
   "cell_type": "code",
   "execution_count": null,
   "metadata": {},
   "outputs": [],
   "source": [
    "#fazer a indexação do dataframe\n",
    "iris.index.values"
   ]
  },
  {
   "cell_type": "code",
   "execution_count": null,
   "metadata": {},
   "outputs": [],
   "source": [
    "iris.head(2)"
   ]
  },
  {
   "cell_type": "code",
   "execution_count": null,
   "metadata": {},
   "outputs": [],
   "source": [
    "#Renomear a nova coluna\n",
    "b = iris.set_index('Especie')\n",
    "b.head()"
   ]
  },
  {
   "cell_type": "code",
   "execution_count": null,
   "metadata": {},
   "outputs": [],
   "source": [
    "#reveter\n",
    "c = b.reset_index()\n",
    "c.index.values\n",
    "c.head()"
   ]
  },
  {
   "cell_type": "code",
   "execution_count": null,
   "metadata": {},
   "outputs": [],
   "source": [
    "iris1 = pd.read_csv(datasetPath +'\\\\Iris.csv')\n",
    "iris1.head()"
   ]
  },
  {
   "cell_type": "code",
   "execution_count": null,
   "metadata": {},
   "outputs": [],
   "source": [
    "iris2 = pd.DataFrame([{'Nome' : 'Iris-setosa', 'Especies' : 'setosa'},\n",
    "                  {'Nome':'Iris-versicolor','Especies':'versicolor'},\n",
    "                   {'Nome':'Iris-virginica','Especies':'virginica'}])\n",
    "iris2"
   ]
  },
  {
   "cell_type": "code",
   "execution_count": null,
   "metadata": {},
   "outputs": [],
   "source": [
    "#Combina os dois frames\n",
    "\n",
    "iris3 = pd.merge(iris1,iris2,how='inner',left_on='Especie',right_on='Nome')\n",
    "iris3.head()\n"
   ]
  },
  {
   "cell_type": "code",
   "execution_count": null,
   "metadata": {},
   "outputs": [],
   "source": [
    "#Média do comprimento de Sepala\n",
    "iris1.groupby('Especie')['Comprimento_Sepala_Cm'].mean()"
   ]
  },
  {
   "cell_type": "code",
   "execution_count": null,
   "metadata": {},
   "outputs": [],
   "source": [
    "iris1.describe() "
   ]
  },
  {
   "cell_type": "code",
   "execution_count": null,
   "metadata": {},
   "outputs": [],
   "source": [
    "iris1.info()"
   ]
  },
  {
   "cell_type": "code",
   "execution_count": null,
   "metadata": {},
   "outputs": [],
   "source": [
    "plt.figure(figsize = (10, 7)) \n",
    "x = iris1[\"Comprimento_Sepala_Cm\"] \n",
    "  \n",
    "plt.hist(x, bins = 10, color = \"green\") \n",
    "plt.title(\"Comprimento de Sepala em cm\") \n",
    "plt.xlabel(\"Comprimento_Sepala_Cm\") \n",
    "plt.ylabel(\"Quantidade\") \n",
    "#plt.show() "
   ]
  },
  {
   "cell_type": "code",
   "execution_count": null,
   "metadata": {},
   "outputs": [],
   "source": [
    "# removing Id column\n",
    "del iris1['Id']"
   ]
  },
  {
   "cell_type": "code",
   "execution_count": null,
   "metadata": {},
   "outputs": [],
   "source": [
    "#Gráfico de caixas\n",
    "#O boxplot (gráfico de caixa) é um gráfico utilizado para avaliar a distribuição empírica do dados.\n",
    "#O boxplot é formado pelo primeiro e terceiro quartil e pela mediana. \n",
    "\n",
    "plt.figure(figsize = (10, 7)) \n",
    "iris1.boxplot() \n",
    "plt.title(\"Comprimento de Sepala em cm\") \n",
    "plt.ylabel(\"Medida em cm\")\n"
   ]
  },
  {
   "cell_type": "code",
   "execution_count": null,
   "metadata": {},
   "outputs": [],
   "source": [
    "a = iris1[(iris1.Largura_Sepala_Cm>3)]\n",
    "a.head()\n"
   ]
  },
  {
   "cell_type": "code",
   "execution_count": null,
   "metadata": {},
   "outputs": [],
   "source": [
    "c = iris1[iris1['Especie']=='Iris-versicolor']\n",
    "c.head()\n"
   ]
  },
  {
   "cell_type": "markdown",
   "metadata": {},
   "source": [
    "Fim!"
   ]
  }
 ],
 "metadata": {
  "kernelspec": {
   "display_name": "Python 3",
   "language": "python",
   "name": "python3"
  },
  "language_info": {
   "codemirror_mode": {
    "name": "ipython",
    "version": 3
   },
   "file_extension": ".py",
   "mimetype": "text/x-python",
   "name": "python",
   "nbconvert_exporter": "python",
   "pygments_lexer": "ipython3",
   "version": "3.7.1"
  }
 },
 "nbformat": 4,
 "nbformat_minor": 4
}
